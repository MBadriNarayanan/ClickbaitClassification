{
 "cells": [
  {
   "cell_type": "code",
   "execution_count": 1,
   "source": [
    "from google.colab import drive\r\n",
    "import warnings\r\n",
    "warnings.filterwarnings('ignore')"
   ],
   "outputs": [],
   "metadata": {
    "colab": {},
    "colab_type": "code",
    "id": "lBnaYLtyZcJF"
   }
  },
  {
   "cell_type": "code",
   "execution_count": 2,
   "source": [
    "try :\r\n",
    "    %tensorflow_version 2.x\r\n",
    "except :\r\n",
    "    pass\r\n",
    "import tensorflow as tf\r\n",
    "from tensorflow import keras\r\n",
    "from tensorflow.keras import layers\r\n",
    "from tensorflow.keras.models import Sequential"
   ],
   "outputs": [],
   "metadata": {
    "colab": {},
    "colab_type": "code",
    "id": "BInxdKa5ZfXj"
   }
  },
  {
   "cell_type": "code",
   "execution_count": 3,
   "source": [
    "import gensim.models\r\n",
    "import nltk\r\n",
    "\r\n",
    "import matplotlib.pyplot as plt\r\n",
    "import numpy as np\r\n",
    "import pandas as pd\r\n",
    "from gensim.models import Word2Vec\r\n",
    "from nltk.corpus import stopwords \r\n",
    "from nltk.tokenize import word_tokenize\r\n",
    "\r\n",
    "from sklearn.metrics import classification_report, confusion_matrix, roc_auc_score\r\n",
    "from sklearn.model_selection import train_test_split\r\n",
    "from tensorflow.keras.preprocessing.sequence import pad_sequences \r\n",
    "\r\n",
    "from nltk.corpus import stopwords \r\n",
    "from nltk.tokenize import word_tokenize\r\n",
    "nltk.download('punkt')\r\n",
    "nltk.download('stopwords')"
   ],
   "outputs": [
    {
     "output_type": "stream",
     "name": "stdout",
     "text": [
      "[nltk_data] Downloading package punkt to /root/nltk_data...\n",
      "[nltk_data]   Package punkt is already up-to-date!\n",
      "[nltk_data] Downloading package stopwords to /root/nltk_data...\n",
      "[nltk_data]   Package stopwords is already up-to-date!\n"
     ]
    },
    {
     "output_type": "execute_result",
     "data": {
      "text/plain": [
       "True"
      ]
     },
     "metadata": {
      "tags": []
     },
     "execution_count": 3
    }
   ],
   "metadata": {
    "colab": {
     "base_uri": "https://localhost:8080/",
     "height": 108
    },
    "colab_type": "code",
    "id": "WO_Q8mg8Zg9C",
    "outputId": "107bb42d-58e6-4844-c0b3-acd209dd1d52"
   }
  },
  {
   "cell_type": "code",
   "execution_count": 4,
   "source": [
    "drive.mount(\"/content/drive\")"
   ],
   "outputs": [
    {
     "output_type": "stream",
     "name": "stdout",
     "text": [
      "Drive already mounted at /content/drive; to attempt to forcibly remount, call drive.mount(\"/content/drive\", force_remount=True).\n"
     ]
    }
   ],
   "metadata": {
    "colab": {
     "base_uri": "https://localhost:8080/",
     "height": 35
    },
    "colab_type": "code",
    "id": "GLUjgjw4Zizy",
    "outputId": "dc47c301-0c1a-4662-87fb-ae226321e617"
   }
  },
  {
   "cell_type": "code",
   "execution_count": 5,
   "source": [
    "data_clickbait = pd.read_csv ('/content/drive/My Drive/clickbait_data' , sep = '\\n' , header = None)\r\n",
    "data_noclickbait = pd.read_csv ('/content/drive/My Drive/non_clickbait_data' , sep = '\\n' , header = None)\r\n",
    "data_clickbait['class'] = [1 for i in range(data_clickbait.shape[0])]\r\n",
    "data_noclickbait['class'] = [0 for i in range(data_noclickbait.shape[0])] \r\n",
    "data_Final = pd.concat((data_clickbait , data_noclickbait), ignore_index = True) \r\n",
    "df = data_Final.rename(columns = { 0 : \"text\" })\r\n",
    "print(df.shape)\r\n",
    "df.head(5)"
   ],
   "outputs": [
    {
     "output_type": "stream",
     "name": "stdout",
     "text": [
      "(32000, 2)\n"
     ]
    },
    {
     "output_type": "execute_result",
     "data": {
      "text/plain": [
       "                                                text  class\n",
       "0                                 Should I Get Bings      1\n",
       "1      Which TV Female Friend Group Do You Belong In      1\n",
       "2  The New \"Star Wars: The Force Awakens\" Trailer...      1\n",
       "3  This Vine Of New York On \"Celebrity Big Brothe...      1\n",
       "4  A Couple Did A Stunning Photo Shoot With Their...      1"
      ],
      "text/html": [
       "<div>\n",
       "<style scoped>\n",
       "    .dataframe tbody tr th:only-of-type {\n",
       "        vertical-align: middle;\n",
       "    }\n",
       "\n",
       "    .dataframe tbody tr th {\n",
       "        vertical-align: top;\n",
       "    }\n",
       "\n",
       "    .dataframe thead th {\n",
       "        text-align: right;\n",
       "    }\n",
       "</style>\n",
       "<table border=\"1\" class=\"dataframe\">\n",
       "  <thead>\n",
       "    <tr style=\"text-align: right;\">\n",
       "      <th></th>\n",
       "      <th>text</th>\n",
       "      <th>class</th>\n",
       "    </tr>\n",
       "  </thead>\n",
       "  <tbody>\n",
       "    <tr>\n",
       "      <th>0</th>\n",
       "      <td>Should I Get Bings</td>\n",
       "      <td>1</td>\n",
       "    </tr>\n",
       "    <tr>\n",
       "      <th>1</th>\n",
       "      <td>Which TV Female Friend Group Do You Belong In</td>\n",
       "      <td>1</td>\n",
       "    </tr>\n",
       "    <tr>\n",
       "      <th>2</th>\n",
       "      <td>The New \"Star Wars: The Force Awakens\" Trailer...</td>\n",
       "      <td>1</td>\n",
       "    </tr>\n",
       "    <tr>\n",
       "      <th>3</th>\n",
       "      <td>This Vine Of New York On \"Celebrity Big Brothe...</td>\n",
       "      <td>1</td>\n",
       "    </tr>\n",
       "    <tr>\n",
       "      <th>4</th>\n",
       "      <td>A Couple Did A Stunning Photo Shoot With Their...</td>\n",
       "      <td>1</td>\n",
       "    </tr>\n",
       "  </tbody>\n",
       "</table>\n",
       "</div>"
      ]
     },
     "metadata": {
      "tags": []
     },
     "execution_count": 5
    }
   ],
   "metadata": {
    "colab": {
     "base_uri": "https://localhost:8080/",
     "height": 216
    },
    "colab_type": "code",
    "id": "I8rE44VZwjmQ",
    "outputId": "3489b957-d967-4254-b05a-fe389491a16f"
   }
  },
  {
   "cell_type": "code",
   "execution_count": 6,
   "source": [
    "stop_words  = set(stopwords.words('english'))"
   ],
   "outputs": [],
   "metadata": {
    "colab": {},
    "colab_type": "code",
    "id": "VyA7JmVAZ50Z"
   }
  },
  {
   "cell_type": "code",
   "execution_count": 7,
   "source": [
    "L = []\r\n",
    "for  i , token  in  enumerate (df['text']) :\r\n",
    "    words = [w for w in token.split()]\r\n",
    "    L.append(len(words))\r\n",
    "sequence_size = max (L)\r\n",
    "\r\n",
    "X = df['text']\r\n",
    "y = df['class']\r\n",
    "X_train, X_test, y_train, y_test = train_test_split(X , y, test_size = 0.2, random_state = 42)\r\n",
    "X_train, X_val, y_train, y_val = train_test_split(X_train, y_train, test_size = 0.25, random_state = 42)"
   ],
   "outputs": [],
   "metadata": {
    "colab": {},
    "colab_type": "code",
    "id": "87wv0ADBZ7tq"
   }
  },
  {
   "cell_type": "code",
   "execution_count": 8,
   "source": [
    "y_train = np.array(y_train)\n",
    "y_test = np.array(y_test)\n",
    "y_val = np.array(y_val)"
   ],
   "outputs": [],
   "metadata": {
    "colab": {},
    "colab_type": "code",
    "id": "8J-6KN_ZZ9dp"
   }
  },
  {
   "cell_type": "code",
   "execution_count": 9,
   "source": [
    "WORD2VEC_VECTORS_BIN  = '/content/drive/My Drive/GoogleNews-vectors-negative300.bin'\n",
    "w2v  =  gensim.models.KeyedVectors.load_word2vec_format(WORD2VEC_VECTORS_BIN , binary = True)"
   ],
   "outputs": [],
   "metadata": {
    "colab": {},
    "colab_type": "code",
    "id": "OM9dY7aUZ_Pq"
   }
  },
  {
   "cell_type": "code",
   "execution_count": 10,
   "source": [
    "embedding_dim = 300\n",
    "def create_data(data, sequence_size, embedding_dim):\n",
    "    embedding_data = np.zeros((len(data), sequence_size, embedding_dim))\n",
    "    for i,sentence in enumerate(data) :\n",
    "        sentence = sentence.replace('-', ' ')\n",
    "        words = nltk.word_tokenize(sentence)\n",
    "        j = 0 \n",
    "        for w in words:\n",
    "            try :\n",
    "                embedding_data[i , j] = w2v[w]\n",
    "                j += 1\n",
    "            except :\n",
    "                pass\n",
    "    return embedding_data\n",
    "        \n",
    "train_data = create_data(X_train, sequence_size, embedding_dim)\n",
    "test_data = create_data(X_test, sequence_size, embedding_dim)\n",
    "val_data = create_data(X_val, sequence_size, embedding_dim)\n",
    "print(test_data.shape)\n",
    "print(train_data.shape)\n",
    "print(val_data.shape)"
   ],
   "outputs": [
    {
     "output_type": "stream",
     "name": "stdout",
     "text": [
      "(6400, 26, 300)\n",
      "(19200, 26, 300)\n",
      "(6400, 26, 300)\n"
     ]
    }
   ],
   "metadata": {
    "colab": {
     "base_uri": "https://localhost:8080/",
     "height": 72
    },
    "colab_type": "code",
    "id": "EPH4XjAjLBhw",
    "outputId": "3cc00131-3d60-4532-cee7-42c91be8847a"
   }
  },
  {
   "cell_type": "code",
   "execution_count": 11,
   "source": [
    "class PositionalEncoding(layers.Layer):\n",
    "  \n",
    "    def __init__(self) :\n",
    "        super(PositionalEncoding, self).__init__()\n",
    "    def get_angles(self, pos, i, d_model) :\n",
    "        angles = 1 / np.power(10000., (2*(i//2)) / np.float32(d_model))\n",
    "        return pos * angles\n",
    "\n",
    "    def call(self, inputs) :\n",
    "        seq_length = inputs.shape.as_list()[-2]\n",
    "        d_model = inputs.shape.as_list()[-1]\n",
    "        angles = self.get_angles(np.arange(seq_length)[:, np.newaxis],np.arange(d_model)[np.newaxis, :],d_model)\n",
    "        angles[:, 0::2] = np.sin(angles[:, 0::2])\n",
    "        angles[:, 1::2] = np.cos(angles[:, 1::2])\n",
    "        pos_encoding = angles[np.newaxis, ...]\n",
    "        return inputs + tf.cast(pos_encoding, tf.float32)"
   ],
   "outputs": [],
   "metadata": {
    "colab": {},
    "colab_type": "code",
    "id": "jFl9wNKwaQm2"
   }
  },
  {
   "cell_type": "code",
   "execution_count": 12,
   "source": [
    "def scaled_dot_product_attention(queries, keys, values, mask) :\n",
    "    product = tf.matmul(queries, keys, transpose_b  = True)\n",
    "    keys_dim = tf.cast(tf.shape(keys)[-1], tf.float32)\n",
    "    scaled_product = product / tf.math.sqrt(keys_dim)\n",
    "    attention = tf.matmul(tf.nn.softmax(scaled_product, axis = -1), values)\n",
    "    return attention"
   ],
   "outputs": [],
   "metadata": {
    "colab": {},
    "colab_type": "code",
    "id": "1Q7LtllFaV12"
   }
  },
  {
   "cell_type": "code",
   "execution_count": 13,
   "source": [
    "class MultiHeadAttention(layers.Layer):\n",
    "    \n",
    "    def __init__(self, nb_proj) :\n",
    "        super(MultiHeadAttention, self).__init__()\n",
    "        self.nb_proj = nb_proj\n",
    "        \n",
    "    def build(self, input_shape) :\n",
    "        self.d_model = input_shape[-1]\n",
    "        assert self.d_model % self.nb_proj == 0\n",
    "        self.d_proj = self.d_model // self.nb_proj\n",
    "        self.query_lin = layers.Dense(units=self.d_model)\n",
    "        self.key_lin = layers.Dense(units=self.d_model)\n",
    "        self.value_lin = layers.Dense(units=self.d_model)\n",
    "        self.final_lin = layers.Dense(units=self.d_model)\n",
    "        \n",
    "    def split_proj(self, inputs, batch_size): \n",
    "        shape = (batch_size,-1, self.nb_proj,self.d_proj)\n",
    "        splited_inputs = tf.reshape(inputs, shape=shape)\n",
    "        return tf.transpose(splited_inputs, perm=[0, 2, 1, 3]) \n",
    "    \n",
    "    def call(self, queries, keys, values, mask) :\n",
    "        batch_size = tf.shape(queries)[0]\n",
    "        queries = self.query_lin(queries)\n",
    "        keys = self.key_lin(keys)\n",
    "        values = self.value_lin(values)\n",
    "        queries = self.split_proj(queries, batch_size)\n",
    "        keys = self.split_proj(keys, batch_size)\n",
    "        values = self.split_proj(values, batch_size)\n",
    "        attention = scaled_dot_product_attention(queries, keys, values, mask)\n",
    "        attention = tf.transpose(attention, perm=[0, 2, 1, 3])\n",
    "        concat_attention = tf.reshape(attention,shape=(batch_size, -1, self.d_model))\n",
    "        outputs = self.final_lin(concat_attention)\n",
    "        return outputs"
   ],
   "outputs": [],
   "metadata": {
    "colab": {},
    "colab_type": "code",
    "id": "2lDxXvPwaeN0"
   }
  },
  {
   "cell_type": "code",
   "execution_count": 14,
   "source": [
    "class EncoderLayer(layers.Layer):\n",
    "    \n",
    "    def __init__(self, FFN_units, nb_proj, dropout_rate) :\n",
    "        super(EncoderLayer, self).__init__()\n",
    "        self.FFN_units = FFN_units\n",
    "        self.nb_proj = nb_proj\n",
    "        self.dropout_rate = dropout_rate\n",
    "    \n",
    "    def build(self, input_shape) :\n",
    "        self.d_model = input_shape[-1]\n",
    "        self.multi_head_attention = MultiHeadAttention(self.nb_proj)\n",
    "        self.dropout_1 = layers.Dropout(rate=self.dropout_rate)\n",
    "        self.norm_1 = layers.LayerNormalization(epsilon=1e-6)\n",
    "        self.dense_1 = layers.Dense(units=self.FFN_units, activation=\"relu\")\n",
    "        self.dense_2 = layers.Dense(units=self.d_model)\n",
    "        self.dropout_2 = layers.Dropout(rate=self.dropout_rate)\n",
    "        self.norm_2 = layers.LayerNormalization(epsilon=1e-6)\n",
    "        \n",
    "    def call(self, inputs, mask, training) :\n",
    "        attention = self.multi_head_attention(inputs,\n",
    "                                              inputs,\n",
    "                                              inputs,\n",
    "                                              mask)\n",
    "        attention = self.dropout_1(attention, training=training)\n",
    "        attention = self.norm_1(attention + inputs)\n",
    "        outputs = self.dense_1(attention)\n",
    "        outputs = self.dense_2(outputs)\n",
    "        outputs = self.dropout_2(outputs, training=training)\n",
    "        outputs = self.norm_2(outputs + attention)\n",
    "        return outputs"
   ],
   "outputs": [],
   "metadata": {
    "colab": {},
    "colab_type": "code",
    "id": "4uvjMQttaeQ7"
   }
  },
  {
   "cell_type": "code",
   "execution_count": 15,
   "source": [
    "class Encoder(layers.Layer) :\n",
    "    \n",
    "    def __init__(self,\n",
    "                 nb_layers,\n",
    "                 FFN_units,\n",
    "                 nb_proj,\n",
    "                 dropout_rate,\n",
    "                 d_model,\n",
    "                 name=\"encoder\") :\n",
    "\n",
    "        super(Encoder, self).__init__(name=name)\n",
    "        self.nb_layers = nb_layers\n",
    "        self.d_model = d_model\n",
    "        self.pos_encoding = PositionalEncoding()\n",
    "        self.dropout = layers.Dropout(rate=dropout_rate)\n",
    "        self.enc_layers = [EncoderLayer(FFN_units,\n",
    "                                        nb_proj,\n",
    "                                        dropout_rate) \n",
    "                           for _ in range(nb_layers)]\n",
    "    \n",
    "    def call(self, inputs, mask, training) :\n",
    "        inputs *= tf.math.sqrt(tf.cast(self.d_model, tf.float32))\n",
    "        outputs = self.pos_encoding(inputs)\n",
    "        outputs = self.dropout(outputs, training)\n",
    "        for i in range(self.nb_layers) :\n",
    "            outputs = self.enc_layers[i](outputs, mask, training)\n",
    "        return outputs"
   ],
   "outputs": [],
   "metadata": {
    "colab": {},
    "colab_type": "code",
    "id": "kaF-Q2K_lm16"
   }
  },
  {
   "cell_type": "code",
   "execution_count": 16,
   "source": [
    "class Transformer(tf.keras.Model):\n",
    "    \n",
    "    def __init__(self,\n",
    "                 d_model,\n",
    "                 nb_layers,\n",
    "                 FFN_units,\n",
    "                 nb_proj,\n",
    "                 dropout_rate,\n",
    "                 name=\"transformer\"):\n",
    "        super(Transformer, self).__init__(name=name)\n",
    "        \n",
    "        self.encoder = Encoder(nb_layers,\n",
    "                               FFN_units,\n",
    "                               nb_proj,\n",
    "                               dropout_rate,\n",
    "                               d_model)\n",
    "    \n",
    "    def create_padding_mask(self, seq):\n",
    "        mask = tf.cast(tf.math.equal(seq, 0), tf.float32)\n",
    "        return mask[:, tf.newaxis, tf.newaxis, :]\n",
    "\n",
    "    def create_look_ahead_mask(self, seq):\n",
    "        seq_len = tf.shape(seq)[1]\n",
    "        look_ahead_mask = 1 - tf.linalg.band_part(tf.ones((seq_len, seq_len)), -1, 0)\n",
    "        return look_ahead_mask\n",
    "    \n",
    "    def call(self, enc_inputs, training = True):\n",
    "        enc_mask = self.create_padding_mask(enc_inputs)\n",
    "        enc_outputs = self.encoder(enc_inputs, enc_mask, training)\n",
    "        return enc_outputs"
   ],
   "outputs": [],
   "metadata": {
    "colab": {},
    "colab_type": "code",
    "id": "GJcIjNCQlseu"
   }
  },
  {
   "cell_type": "code",
   "execution_count": 18,
   "source": [
    "D_MODEL = 300\n",
    "NB_LAYERS = 2\n",
    "FFN_UNITS = 512\n",
    "NB_PROJ = 4\n",
    "DROPOUT_RATE = 0.1\n",
    "transformer = Transformer(d_model = D_MODEL,\n",
    "                          nb_layers = NB_LAYERS,\n",
    "                          FFN_units = FFN_UNITS,\n",
    "                          nb_proj = NB_PROJ,\n",
    "                          dropout_rate = DROPOUT_RATE)\n",
    "\n",
    "\n",
    "  \n",
    "inputs = layers.Input(shape = (sequence_size,D_MODEL))\n",
    "x = transformer(inputs)\n",
    "x = layers.Flatten()(x)\n",
    "x = layers.Dense(512, activation=\"relu\")(x)\n",
    "x = layers.Dropout(DROPOUT_RATE)(x)\n",
    "x = layers.Dense(256, activation=\"relu\")(x)\n",
    "x = layers.Dropout(DROPOUT_RATE)(x)\n",
    "outputs = layers.Dense(1, activation=\"sigmoid\")(x)\n",
    "model = keras.Model(inputs = inputs, outputs = outputs)\n",
    "model.summary()\n",
    "model.compile(loss = 'binary_crossentropy', optimizer = 'adam', metrics = ['accuracy'])"
   ],
   "outputs": [
    {
     "output_type": "stream",
     "name": "stdout",
     "text": [
      "Model: \"functional_1\"\n",
      "_________________________________________________________________\n",
      "Layer (type)                 Output Shape              Param #   \n",
      "=================================================================\n",
      "input_1 (InputLayer)         [(None, 26, 300)]         0         \n",
      "_________________________________________________________________\n",
      "transformer (Transformer)    (None, 26, 300)           1340824   \n",
      "_________________________________________________________________\n",
      "flatten (Flatten)            (None, 7800)              0         \n",
      "_________________________________________________________________\n",
      "dense (Dense)                (None, 512)               3994112   \n",
      "_________________________________________________________________\n",
      "dropout_2 (Dropout)          (None, 512)               0         \n",
      "_________________________________________________________________\n",
      "dense_1 (Dense)              (None, 256)               131328    \n",
      "_________________________________________________________________\n",
      "dropout_3 (Dropout)          (None, 256)               0         \n",
      "_________________________________________________________________\n",
      "dense_2 (Dense)              (None, 1)                 257       \n",
      "=================================================================\n",
      "Total params: 5,466,521\n",
      "Trainable params: 5,466,521\n",
      "Non-trainable params: 0\n",
      "_________________________________________________________________\n"
     ]
    }
   ],
   "metadata": {
    "colab": {
     "base_uri": "https://localhost:8080/",
     "height": 454
    },
    "colab_type": "code",
    "id": "9moaXe9eaBqR",
    "outputId": "fd372bae-1c7c-4aa5-a55e-02dcb980ce23"
   }
  },
  {
   "cell_type": "code",
   "execution_count": 19,
   "source": [
    "history = model.fit(train_data, y_train, batch_size = 64, epochs = 20, validation_data = (val_data , y_val), verbose = 1)"
   ],
   "outputs": [
    {
     "output_type": "stream",
     "name": "stdout",
     "text": [
      "Epoch 1/20\n",
      "300/300 [==============================] - ETA: 0s - loss: 0.1624 - accuracy: 0.9571WARNING:tensorflow:Callbacks method `on_test_batch_end` is slow compared to the batch time (batch time: 0.0027s vs `on_test_batch_end` time: 0.0056s). Check your callbacks.\n",
      "300/300 [==============================] - 10s 32ms/step - loss: 0.1624 - accuracy: 0.9571 - val_loss: 0.1042 - val_accuracy: 0.9744\n",
      "Epoch 2/20\n",
      "300/300 [==============================] - 9s 29ms/step - loss: 0.0544 - accuracy: 0.9823 - val_loss: 0.0698 - val_accuracy: 0.9831\n",
      "Epoch 3/20\n",
      "300/300 [==============================] - 9s 29ms/step - loss: 0.0459 - accuracy: 0.9859 - val_loss: 0.0580 - val_accuracy: 0.9844\n",
      "Epoch 4/20\n",
      "300/300 [==============================] - 9s 29ms/step - loss: 0.0402 - accuracy: 0.9867 - val_loss: 0.0475 - val_accuracy: 0.9814\n",
      "Epoch 5/20\n",
      "300/300 [==============================] - 9s 29ms/step - loss: 0.0336 - accuracy: 0.9879 - val_loss: 0.0652 - val_accuracy: 0.9825\n",
      "Epoch 6/20\n",
      "300/300 [==============================] - 9s 29ms/step - loss: 0.0401 - accuracy: 0.9879 - val_loss: 0.0742 - val_accuracy: 0.9772\n",
      "Epoch 7/20\n",
      "300/300 [==============================] - 9s 29ms/step - loss: 0.0380 - accuracy: 0.9879 - val_loss: 0.0462 - val_accuracy: 0.9837\n",
      "Epoch 8/20\n",
      "300/300 [==============================] - 9s 29ms/step - loss: 0.0366 - accuracy: 0.9876 - val_loss: 0.0482 - val_accuracy: 0.9847\n",
      "Epoch 9/20\n",
      "300/300 [==============================] - 9s 29ms/step - loss: 0.0349 - accuracy: 0.9882 - val_loss: 0.0538 - val_accuracy: 0.9836\n",
      "Epoch 10/20\n",
      "300/300 [==============================] - 9s 29ms/step - loss: 0.0320 - accuracy: 0.9891 - val_loss: 0.0698 - val_accuracy: 0.9786\n",
      "Epoch 11/20\n",
      "300/300 [==============================] - 9s 29ms/step - loss: 0.0386 - accuracy: 0.9860 - val_loss: 0.0637 - val_accuracy: 0.9825\n",
      "Epoch 12/20\n",
      "300/300 [==============================] - 9s 29ms/step - loss: 0.0349 - accuracy: 0.9879 - val_loss: 0.0638 - val_accuracy: 0.9844\n",
      "Epoch 13/20\n",
      "300/300 [==============================] - 9s 29ms/step - loss: 0.0348 - accuracy: 0.9884 - val_loss: 0.0501 - val_accuracy: 0.9847\n",
      "Epoch 14/20\n",
      "300/300 [==============================] - 9s 29ms/step - loss: 0.0540 - accuracy: 0.9828 - val_loss: 0.0632 - val_accuracy: 0.9762\n",
      "Epoch 15/20\n",
      "300/300 [==============================] - 9s 29ms/step - loss: 0.0561 - accuracy: 0.9814 - val_loss: 0.0596 - val_accuracy: 0.9755\n",
      "Epoch 16/20\n",
      "300/300 [==============================] - 9s 29ms/step - loss: 0.0464 - accuracy: 0.9850 - val_loss: 0.0622 - val_accuracy: 0.9806\n",
      "Epoch 17/20\n",
      "300/300 [==============================] - 9s 29ms/step - loss: 0.0419 - accuracy: 0.9868 - val_loss: 0.0750 - val_accuracy: 0.9789\n",
      "Epoch 18/20\n",
      "300/300 [==============================] - 9s 29ms/step - loss: 0.0555 - accuracy: 0.9822 - val_loss: 0.0731 - val_accuracy: 0.9769\n",
      "Epoch 19/20\n",
      "300/300 [==============================] - 9s 29ms/step - loss: 0.0589 - accuracy: 0.9805 - val_loss: 0.0609 - val_accuracy: 0.9809\n",
      "Epoch 20/20\n",
      "300/300 [==============================] - 9s 29ms/step - loss: 0.0402 - accuracy: 0.9869 - val_loss: 0.0590 - val_accuracy: 0.9827\n"
     ]
    }
   ],
   "metadata": {
    "colab": {
     "base_uri": "https://localhost:8080/",
     "height": 783
    },
    "colab_type": "code",
    "id": "oOnxkZRdaEAi",
    "outputId": "b3ed4a45-5b75-49c8-bb85-ede4efd2534f"
   }
  },
  {
   "cell_type": "code",
   "execution_count": 20,
   "source": [
    "plt.plot(history.history['accuracy'])\n",
    "plt.plot(history.history['val_accuracy'])\n",
    "plt.title('Model accuracy')\n",
    "plt.ylabel('Accuracy')\n",
    "plt.xlabel('Epoch')\n",
    "plt.legend(['Training', 'Validation'], loc='lower right')\n",
    "plt.show()"
   ],
   "outputs": [
    {
     "output_type": "display_data",
     "data": {
      "text/plain": [
       "<Figure size 432x288 with 1 Axes>"
      ],
      "image/png": "[encoded data removed]"
     },
     "metadata": {
      "needs_background": "light",
      "tags": []
     }
    }
   ],
   "metadata": {
    "colab": {
     "base_uri": "https://localhost:8080/",
     "height": 295
    },
    "colab_type": "code",
    "id": "AWJflmuvaIqM",
    "outputId": "883f1dd4-b936-4476-e237-b1b29f029d8c"
   }
  },
  {
   "cell_type": "code",
   "execution_count": 21,
   "source": [
    "plt.plot(history.history['loss'], label='Training data')\n",
    "plt.plot(history.history['val_loss'], label='Validation data')\n",
    "plt.title('Loss')\n",
    "plt.ylabel('Loss value')\n",
    "plt.xlabel('No. epoch')\n",
    "plt.legend(loc=\"upper left\")\n",
    "plt.show()"
   ],
   "outputs": [
    {
     "output_type": "display_data",
     "data": {
      "text/plain": [
       "<Figure size 432x288 with 1 Axes>"
      ],
      "image/png": "[encoded data removed]"
     },
     "metadata": {
      "needs_background": "light",
      "tags": []
     }
    }
   ],
   "metadata": {
    "colab": {
     "base_uri": "https://localhost:8080/",
     "height": 295
    },
    "colab_type": "code",
    "id": "lVl-R4EDaKj9",
    "outputId": "fd54d391-a880-45e1-bd81-c68f9adb1041"
   }
  },
  {
   "cell_type": "code",
   "execution_count": 22,
   "source": [
    "y_pred = model.predict(test_data)"
   ],
   "outputs": [],
   "metadata": {
    "colab": {},
    "colab_type": "code",
    "id": "aTT31txecTt6"
   }
  },
  {
   "cell_type": "code",
   "execution_count": 23,
   "source": [
    "y_pred"
   ],
   "outputs": [
    {
     "output_type": "execute_result",
     "data": {
      "text/plain": [
       "array([[2.0939126e-08],\n",
       "       [2.3471547e-07],\n",
       "       [9.9992108e-01],\n",
       "       ...,\n",
       "       [9.9971157e-01],\n",
       "       [9.9863094e-01],\n",
       "       [8.8735662e-02]], dtype=float32)"
      ]
     },
     "metadata": {
      "tags": []
     },
     "execution_count": 23
    }
   ],
   "metadata": {
    "colab": {
     "base_uri": "https://localhost:8080/",
     "height": 145
    },
    "colab_type": "code",
    "id": "NHOi5fpPPWDt",
    "outputId": "79895a9e-d023-434e-8244-2f0f884733df"
   }
  },
  {
   "cell_type": "code",
   "execution_count": 24,
   "source": [
    "score , acc  =  model.evaluate(test_data, y_test, batch_size = 64)"
   ],
   "outputs": [
    {
     "output_type": "stream",
     "name": "stdout",
     "text": [
      "100/100 [==============================] - 1s 9ms/step - loss: 0.0578 - accuracy: 0.9822\n"
     ]
    }
   ],
   "metadata": {
    "colab": {
     "base_uri": "https://localhost:8080/",
     "height": 35
    },
    "colab_type": "code",
    "id": "w5vxqml_MkH6",
    "outputId": "9197c4a0-c0e9-4acf-e4bd-386e04ac68b8"
   }
  },
  {
   "cell_type": "code",
   "execution_count": 25,
   "source": [
    "print('Test Score:', score)"
   ],
   "outputs": [
    {
     "output_type": "stream",
     "name": "stdout",
     "text": [
      " Test Score :  0.057759568095207214\n"
     ]
    }
   ],
   "metadata": {
    "colab": {
     "base_uri": "https://localhost:8080/",
     "height": 35
    },
    "colab_type": "code",
    "id": "UP2pwTHMPYA2",
    "outputId": "cf077c39-9cd7-4d5d-9892-15ecf660bcf4"
   }
  },
  {
   "cell_type": "code",
   "execution_count": 26,
   "source": [
    "print('Test Accuracy : ', acc)"
   ],
   "outputs": [
    {
     "output_type": "stream",
     "name": "stdout",
     "text": [
      "Test Accuracy :  0.9821875095367432\n"
     ]
    }
   ],
   "metadata": {
    "colab": {
     "base_uri": "https://localhost:8080/",
     "height": 35
    },
    "colab_type": "code",
    "id": "Y68He4g3PfGY",
    "outputId": "92cd3bd5-4f5c-4ad6-fcc4-4a260308fc7a"
   }
  },
  {
   "cell_type": "code",
   "execution_count": 27,
   "source": [
    "def predict_function(y_pred) :\n",
    "    for i in range(y_pred.shape[0]) :\n",
    "        if y_pred[i][0] >= 0.5 :\n",
    "            y_pred[i][0] = 1\n",
    "        else :\n",
    "            y_pred[i][0] = 0\n",
    "        return y_pred.astype('int64')"
   ],
   "outputs": [],
   "metadata": {
    "colab": {},
    "colab_type": "code",
    "id": "vTIR0MNrcYxR"
   }
  },
  {
   "cell_type": "code",
   "execution_count": 28,
   "source": [
    "y_pred = predict_function(y_pred)"
   ],
   "outputs": [],
   "metadata": {
    "colab": {},
    "colab_type": "code",
    "id": "1HcxwByxcZTY"
   }
  },
  {
   "cell_type": "code",
   "execution_count": 29,
   "source": [
    "y_test = y_test.reshape(-1,1)"
   ],
   "outputs": [],
   "metadata": {
    "colab": {},
    "colab_type": "code",
    "id": "7g58nYSbdYr4"
   }
  },
  {
   "cell_type": "code",
   "execution_count": 30,
   "source": [
    "metrics = classification_report(y_test, y_pred, digits = 4)\n",
    "\n",
    "print('Classification Report ')\n",
    "print(\"\\n\")\n",
    "print(metrics)\n",
    "cm = confusion_matrix(y_test, y_pred)\n",
    "print('Confusion Matrix')\n",
    "print(\"\\n\")\n",
    "print(cm)"
   ],
   "outputs": [
    {
     "output_type": "stream",
     "name": "stdout",
     "text": [
      "Classification Report \n",
      "\n",
      "\n",
      "              precision    recall  f1-score   support\n",
      "\n",
      "           0     0.9868    0.9767    0.9817      3127\n",
      "           1     0.9779    0.9875    0.9827      3273\n",
      "\n",
      "    accuracy                         0.9822      6400\n",
      "   macro avg     0.9823    0.9821    0.9822      6400\n",
      "weighted avg     0.9822    0.9822    0.9822      6400\n",
      "\n",
      "Confusion Matrix\n",
      "\n",
      "\n",
      "[[3054   73]\n",
      " [  41 3232]]\n"
     ]
    }
   ],
   "metadata": {
    "colab": {
     "base_uri": "https://localhost:8080/",
     "height": 326
    },
    "colab_type": "code",
    "id": "EKB3RgAndTTh",
    "outputId": "57d46f05-79fb-475f-d8fa-f67d65bb6685"
   }
  },
  {
   "cell_type": "code",
   "execution_count": 31,
   "source": [
    "def TestingOwnData(sentence) :\n",
    "    X = np.zeros((1,sequence_size,300))\n",
    "    sentence = sentence.replace('-',' ')\n",
    "    words = nltk.word_tokenize(sentence)\n",
    "    j = 0\n",
    "    for w in words:\n",
    "        try :\n",
    "            X[0,j] = w2v[w]\n",
    "            j += 1\n",
    "        except :\n",
    "            pass\n",
    "    prediction = predict_function(model.predict(X))[0][0]\n",
    "    if prediction == 1 :         \n",
    "        return 'Clickbait'\n",
    "    return 'Not A Clickbait'"
   ],
   "outputs": [],
   "metadata": {
    "colab": {},
    "colab_type": "code",
    "id": "wKs712yBM4OO"
   }
  },
  {
   "cell_type": "code",
   "execution_count": 32,
   "source": [
    "TestingOwnData('Amazing Inventions You Won’t Believe Exist')"
   ],
   "outputs": [
    {
     "output_type": "execute_result",
     "data": {
      "text/plain": [
       "'Clickbait'"
      ],
      "application/vnd.google.colaboratory.intrinsic+json": {
       "type": "string"
      }
     },
     "metadata": {
      "tags": []
     },
     "execution_count": 32
    }
   ],
   "metadata": {
    "colab": {
     "base_uri": "https://localhost:8080/",
     "height": 35
    },
    "colab_type": "code",
    "id": "F7A59GgSZv-r",
    "outputId": "1d5abaca-4a47-41a9-e896-d83944996c02"
   }
  },
  {
   "cell_type": "code",
   "execution_count": 33,
   "source": [
    "TestingOwnData('Tamil Nadu reports 4,280 fresh COVID-19 cases and 65 deaths')"
   ],
   "outputs": [
    {
     "output_type": "execute_result",
     "data": {
      "text/plain": [
       "'Not A Clickbait'"
      ],
      "application/vnd.google.colaboratory.intrinsic+json": {
       "type": "string"
      }
     },
     "metadata": {
      "tags": []
     },
     "execution_count": 33
    }
   ],
   "metadata": {
    "colab": {
     "base_uri": "https://localhost:8080/",
     "height": 35
    },
    "colab_type": "code",
    "id": "yTWkeysIRp5l",
    "outputId": "e1957695-8d3c-417d-f6d8-249256586a42"
   }
  },
  {
   "cell_type": "code",
   "execution_count": 34,
   "source": [
    "TestingOwnData('Can Face Masks Prevent You From Getting the Coronavirus? Doctors Weight In')"
   ],
   "outputs": [
    {
     "output_type": "execute_result",
     "data": {
      "text/plain": [
       "'Clickbait'"
      ],
      "application/vnd.google.colaboratory.intrinsic+json": {
       "type": "string"
      }
     },
     "metadata": {
      "tags": []
     },
     "execution_count": 34
    }
   ],
   "metadata": {
    "colab": {
     "base_uri": "https://localhost:8080/",
     "height": 35
    },
    "colab_type": "code",
    "id": "EFDKxdQCSRem",
    "outputId": "7dd126d6-227b-4475-94a4-b2ebc2b74609"
   }
  },
  {
   "cell_type": "code",
   "execution_count": 35,
   "source": [
    "TestingOwnData('PM Modi asks to prepare Digital booklets documenting the relief works')"
   ],
   "outputs": [
    {
     "output_type": "execute_result",
     "data": {
      "text/plain": [
       "'Not A Clickbait'"
      ],
      "application/vnd.google.colaboratory.intrinsic+json": {
       "type": "string"
      }
     },
     "metadata": {
      "tags": []
     },
     "execution_count": 35
    }
   ],
   "metadata": {
    "colab": {
     "base_uri": "https://localhost:8080/",
     "height": 35
    },
    "colab_type": "code",
    "id": "8MVbsB9fTA88",
    "outputId": "6e7aad15-9afe-480d-9e0f-56ea6ea4aa56"
   }
  },
  {
   "cell_type": "code",
   "execution_count": 36,
   "source": [
    "TestingOwnData('No passenger flights to Kolkata from Delhi, Mumbai, Chennai and 3 other cities between Jul 6-19')"
   ],
   "outputs": [
    {
     "output_type": "execute_result",
     "data": {
      "text/plain": [
       "'Not A Clickbait'"
      ],
      "application/vnd.google.colaboratory.intrinsic+json": {
       "type": "string"
      }
     },
     "metadata": {
      "tags": []
     },
     "execution_count": 36
    }
   ],
   "metadata": {
    "colab": {
     "base_uri": "https://localhost:8080/",
     "height": 35
    },
    "colab_type": "code",
    "id": "OGfcrnKnTF_8",
    "outputId": "9a4d1c38-b7a2-45ae-ec35-db8be53cb418"
   }
  }
 ],
 "metadata": {
  "accelerator": "GPU",
  "colab": {
   "collapsed_sections": [],
   "name": "Clickbait.ipynb",
   "provenance": []
  },
  "kernelspec": {
   "display_name": "Python 3",
   "language": "python",
   "name": "python3"
  },
  "language_info": {
   "codemirror_mode": {
    "name": "ipython",
    "version": 3
   },
   "file_extension": ".py",
   "mimetype": "text/x-python",
   "name": "python",
   "nbconvert_exporter": "python",
   "pygments_lexer": "ipython3",
   "version": "3.7.6"
  }
 },
 "nbformat": 4,
 "nbformat_minor": 1
}